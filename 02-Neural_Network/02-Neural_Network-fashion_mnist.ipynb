{
 "cells": [
  {
   "cell_type": "markdown",
   "metadata": {},
   "source": [
    "## 01 - Bibliotecas"
   ]
  },
  {
   "cell_type": "code",
   "execution_count": 1,
   "metadata": {},
   "outputs": [],
   "source": [
    "# Importando bibliotecas\n",
    "import numpy as np\n",
    "import datetime\n",
    "import tensorflow as tf\n",
    "from tensorflow.keras.datasets import fashion_mnist"
   ]
  },
  {
   "cell_type": "markdown",
   "metadata": {},
   "source": [
    "## 02 - Pre-Processamento"
   ]
  },
  {
   "cell_type": "markdown",
   "metadata": {},
   "source": [
    "### 02.1 - separando dados de treino e teste"
   ]
  },
  {
   "cell_type": "code",
   "execution_count": 2,
   "metadata": {},
   "outputs": [],
   "source": [
    "(X_train, y_train), (X_test, y_test) = fashion_mnist.load_data()"
   ]
  },
  {
   "cell_type": "code",
   "execution_count": 3,
   "metadata": {},
   "outputs": [
    {
     "name": "stdout",
     "output_type": "stream",
     "text": [
      "Dados de treino X_train: (60000, 28, 28) y_train: [9 0 0 ... 3 0 5]\n"
     ]
    }
   ],
   "source": [
    "print(\"Dados de treino X_train:\",X_train.shape,\"y_train:\",y_train)"
   ]
  },
  {
   "cell_type": "markdown",
   "metadata": {},
   "source": [
    "### 02.2 - Normalizando as imagens"
   ]
  },
  {
   "cell_type": "code",
   "execution_count": 4,
   "metadata": {},
   "outputs": [],
   "source": [
    "X_train = X_train/255.0\n",
    "X_test = X_test/255.0"
   ]
  },
  {
   "cell_type": "markdown",
   "metadata": {},
   "source": [
    "### 02.3 - Remodelando (reshaping) a base de dados"
   ]
  },
  {
   "cell_type": "code",
   "execution_count": 5,
   "metadata": {},
   "outputs": [
    {
     "data": {
      "text/plain": [
       "(60000, 784)"
      ]
     },
     "execution_count": 5,
     "metadata": {},
     "output_type": "execute_result"
    }
   ],
   "source": [
    "# Como a dimensão de cada imagem é 28x28, mudamos toda a base de dados para o formato [-1 (todos os elementos), altura * largura]\n",
    "X_train = X_train.reshape(-1, 28*28)\n",
    "X_train.shape"
   ]
  },
  {
   "cell_type": "code",
   "execution_count": 6,
   "metadata": {},
   "outputs": [
    {
     "data": {
      "text/plain": [
       "(10000, 784)"
      ]
     },
     "execution_count": 6,
     "metadata": {},
     "output_type": "execute_result"
    }
   ],
   "source": [
    "# Mudamos também a dimensão da base de teste\n",
    "X_test = X_test.reshape(-1, 28*28)\n",
    "X_test.shape"
   ]
  },
  {
   "cell_type": "markdown",
   "metadata": {},
   "source": [
    "### 02.4 -  Construindo a Rede Neural Artificial"
   ]
  },
  {
   "cell_type": "code",
   "execution_count": 7,
   "metadata": {},
   "outputs": [],
   "source": [
    "#Definindo modelo\n",
    "model = tf.keras.models.Sequential()"
   ]
  },
  {
   "cell_type": "code",
   "execution_count": 8,
   "metadata": {},
   "outputs": [],
   "source": [
    "# primeira camada\n",
    "model.add(tf.keras.layers.Dense(units=128,           #neuronios na camada\n",
    "                                activation='relu',   #função de ativação\n",
    "                                input_shape=(784, )))#neuronios camaada de entrada\n",
    "#Adicionando Dropout\n",
    "model.add(tf.keras.layers.Dropout(0.2))\n",
    "\n",
    "# segunda camada\n",
    "model.add(tf.keras.layers.Dense(units=128,           #neuronios na camada\n",
    "                                activation='relu'))  #função de ativação\n",
    "#Adicionando Dropout\n",
    "model.add(tf.keras.layers.Dropout(0.2))"
   ]
  },
  {
   "cell_type": "code",
   "execution_count": 9,
   "metadata": {},
   "outputs": [],
   "source": [
    "#Adicionando a camada de saída\n",
    "model.add(tf.keras.layers.Dense(units=10,\n",
    "                                activation='softmax'))"
   ]
  },
  {
   "cell_type": "code",
   "execution_count": 10,
   "metadata": {},
   "outputs": [
    {
     "name": "stdout",
     "output_type": "stream",
     "text": [
      "Model: \"sequential\"\n",
      "_________________________________________________________________\n",
      "Layer (type)                 Output Shape              Param #   \n",
      "=================================================================\n",
      "dense (Dense)                (None, 128)               100480    \n",
      "_________________________________________________________________\n",
      "dropout (Dropout)            (None, 128)               0         \n",
      "_________________________________________________________________\n",
      "dense_1 (Dense)              (None, 128)               16512     \n",
      "_________________________________________________________________\n",
      "dropout_1 (Dropout)          (None, 128)               0         \n",
      "_________________________________________________________________\n",
      "dense_2 (Dense)              (None, 10)                1290      \n",
      "=================================================================\n",
      "Total params: 118,282\n",
      "Trainable params: 118,282\n",
      "Non-trainable params: 0\n",
      "_________________________________________________________________\n"
     ]
    }
   ],
   "source": [
    "model.summary()"
   ]
  },
  {
   "cell_type": "markdown",
   "metadata": {},
   "source": [
    "### 02.5 - Treinamento"
   ]
  },
  {
   "cell_type": "code",
   "execution_count": 13,
   "metadata": {},
   "outputs": [
    {
     "name": "stdout",
     "output_type": "stream",
     "text": [
      "Epoch 1/20\n",
      "1875/1875 [==============================] - 2s 836us/step - loss: 0.2920 - sparse_categorical_accuracy: 0.8918\n",
      "Epoch 2/20\n",
      "1875/1875 [==============================] - 2s 817us/step - loss: 0.2888 - sparse_categorical_accuracy: 0.8898\n",
      "Epoch 3/20\n",
      "1875/1875 [==============================] - 2s 832us/step - loss: 0.2844 - sparse_categorical_accuracy: 0.8925\n",
      "Epoch 4/20\n",
      "1875/1875 [==============================] - 2s 847us/step - loss: 0.2774 - sparse_categorical_accuracy: 0.8955\n",
      "Epoch 5/20\n",
      "1875/1875 [==============================] - 1s 791us/step - loss: 0.2742 - sparse_categorical_accuracy: 0.8966\n",
      "Epoch 6/20\n",
      "1875/1875 [==============================] - 1s 782us/step - loss: 0.2688 - sparse_categorical_accuracy: 0.8988\n",
      "Epoch 7/20\n",
      "1875/1875 [==============================] - 1s 788us/step - loss: 0.2670 - sparse_categorical_accuracy: 0.8993\n",
      "Epoch 8/20\n",
      "1875/1875 [==============================] - 1s 785us/step - loss: 0.2658 - sparse_categorical_accuracy: 0.9003\n",
      "Epoch 9/20\n",
      "1875/1875 [==============================] - 1s 785us/step - loss: 0.2591 - sparse_categorical_accuracy: 0.9018\n",
      "Epoch 10/20\n",
      "1875/1875 [==============================] - 1s 773us/step - loss: 0.2570 - sparse_categorical_accuracy: 0.9023\n",
      "Epoch 11/20\n",
      "1875/1875 [==============================] - 1s 773us/step - loss: 0.2546 - sparse_categorical_accuracy: 0.9049\n",
      "Epoch 12/20\n",
      "1875/1875 [==============================] - 1s 769us/step - loss: 0.2512 - sparse_categorical_accuracy: 0.9059\n",
      "Epoch 13/20\n",
      "1875/1875 [==============================] - 1s 779us/step - loss: 0.2469 - sparse_categorical_accuracy: 0.9063\n",
      "Epoch 14/20\n",
      "1875/1875 [==============================] - 2s 814us/step - loss: 0.2433 - sparse_categorical_accuracy: 0.9078\n",
      "Epoch 15/20\n",
      "1875/1875 [==============================] - 1s 775us/step - loss: 0.2428 - sparse_categorical_accuracy: 0.9082\n",
      "Epoch 16/20\n",
      "1875/1875 [==============================] - 1s 776us/step - loss: 0.2412 - sparse_categorical_accuracy: 0.9094\n",
      "Epoch 17/20\n",
      "1875/1875 [==============================] - 1s 772us/step - loss: 0.2397 - sparse_categorical_accuracy: 0.9096\n",
      "Epoch 18/20\n",
      "1875/1875 [==============================] - 1s 778us/step - loss: 0.2358 - sparse_categorical_accuracy: 0.9110\n",
      "Epoch 19/20\n",
      "1875/1875 [==============================] - 1s 791us/step - loss: 0.2357 - sparse_categorical_accuracy: 0.9109\n",
      "Epoch 20/20\n",
      "1875/1875 [==============================] - 1s 776us/step - loss: 0.2296 - sparse_categorical_accuracy: 0.9135\n"
     ]
    },
    {
     "data": {
      "text/plain": [
       "<tensorflow.python.keras.callbacks.History at 0x20c875a55b0>"
      ]
     },
     "execution_count": 13,
     "metadata": {},
     "output_type": "execute_result"
    }
   ],
   "source": [
    "model.compile(optimizer='adam',\n",
    "              loss='sparse_categorical_crossentropy',\n",
    "              metrics=['sparse_categorical_accuracy'])\n",
    "model.fit(X_train, y_train, epochs=20)"
   ]
  },
  {
   "cell_type": "markdown",
   "metadata": {},
   "source": [
    "## 03 - Avaliação "
   ]
  },
  {
   "cell_type": "code",
   "execution_count": 14,
   "metadata": {},
   "outputs": [
    {
     "name": "stdout",
     "output_type": "stream",
     "text": [
      "313/313 [==============================] - 0s 513us/step - loss: 0.3292 - sparse_categorical_accuracy: 0.8915\n"
     ]
    }
   ],
   "source": [
    "test_loss, test_accuracy = model.evaluate(X_test, y_test)"
   ]
  },
  {
   "cell_type": "code",
   "execution_count": null,
   "metadata": {},
   "outputs": [],
   "source": []
  },
  {
   "cell_type": "code",
   "execution_count": null,
   "metadata": {},
   "outputs": [],
   "source": []
  }
 ],
 "metadata": {
  "kernelspec": {
   "display_name": "Python 3",
   "language": "python",
   "name": "python3"
  },
  "language_info": {
   "codemirror_mode": {
    "name": "ipython",
    "version": 3
   },
   "file_extension": ".py",
   "mimetype": "text/x-python",
   "name": "python",
   "nbconvert_exporter": "python",
   "pygments_lexer": "ipython3",
   "version": "3.8.3"
  }
 },
 "nbformat": 4,
 "nbformat_minor": 4
}
