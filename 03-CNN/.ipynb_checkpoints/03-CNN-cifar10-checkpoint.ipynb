{
 "cells": [
  {
   "cell_type": "markdown",
   "metadata": {},
   "source": [
    "## 01 - Importações "
   ]
  },
  {
   "cell_type": "code",
   "execution_count": 1,
   "metadata": {},
   "outputs": [
    {
     "data": {
      "text/plain": [
       "'2.3.1'"
      ]
     },
     "execution_count": 1,
     "metadata": {},
     "output_type": "execute_result"
    }
   ],
   "source": [
    "import tensorflow as tf\n",
    "import matplotlib.pyplot as plt\n",
    "\n",
    "from tensorflow.keras.datasets import cifar10\n",
    "\n",
    "%matplotlib inline\n",
    "tf.__version__"
   ]
  },
  {
   "cell_type": "markdown",
   "metadata": {},
   "source": [
    "## 02 - Pre-processamento"
   ]
  },
  {
   "cell_type": "code",
   "execution_count": 2,
   "metadata": {},
   "outputs": [],
   "source": [
    "# labels\n",
    "class_names = ['airplane', 'automobile', 'bird', 'cat', 'deer', 'dog', 'frog', 'horse', 'ship', 'truck']"
   ]
  },
  {
   "cell_type": "code",
   "execution_count": 3,
   "metadata": {
    "scrolled": true
   },
   "outputs": [],
   "source": [
    "#load data and split\n",
    "(X_train, y_train), (X_test, y_test) = cifar10.load_data()"
   ]
  },
  {
   "cell_type": "code",
   "execution_count": 4,
   "metadata": {},
   "outputs": [
    {
     "data": {
      "image/png": "[encoded data removed]",
      "text/plain": [
       "<Figure size 432x288 with 1 Axes>"
      ]
     },
     "metadata": {
      "needs_background": "light"
     },
     "output_type": "display_data"
    }
   ],
   "source": [
    "plt.imshow(X_test[1]);"
   ]
  },
  {
   "cell_type": "code",
   "execution_count": 5,
   "metadata": {},
   "outputs": [
    {
     "name": "stdout",
     "output_type": "stream",
     "text": [
      "X_train.shape: (50000, 32, 32, 3)\n",
      "X_test.shape: (10000, 32, 32, 3)\n"
     ]
    }
   ],
   "source": [
    "# normalize data\n",
    "X_train = X_train / 255.0\n",
    "print(\"X_train.shape:\",X_train.shape)\n",
    "\n",
    "X_test = X_test / 255.0\n",
    "print(\"X_test.shape:\",X_test.shape)"
   ]
  },
  {
   "cell_type": "code",
   "execution_count": 7,
   "metadata": {},
   "outputs": [
    {
     "data": {
      "text/plain": [
       "Text(0.5, 1.0, 'after nomalise')"
      ]
     },
     "execution_count": 7,
     "metadata": {},
     "output_type": "execute_result"
    },
    {
     "data": {
      "image/png": "[encoded data removed]",
      "text/plain": [
       "<Figure size 432x288 with 1 Axes>"
      ]
     },
     "metadata": {
      "needs_background": "light"
     },
     "output_type": "display_data"
    }
   ],
   "source": [
    "plt.imshow(X_test[1]);\n",
    "plt.title(\"after nomalise\")"
   ]
  },
  {
   "cell_type": "markdown",
   "metadata": {},
   "source": [
    "## 03 - Construção Rede"
   ]
  },
  {
   "cell_type": "markdown",
   "metadata": {},
   "source": [
    "#### 03.1 - Build CNN"
   ]
  },
  {
   "cell_type": "code",
   "execution_count": 16,
   "metadata": {},
   "outputs": [],
   "source": [
    "# create model\n",
    "model = tf.keras.models.Sequential()\n",
    "\n",
    "#-------------------------------------------------------------------------------------------------------------------------#\n",
    "\n",
    "# add 1 layer convolution\n",
    "model.add(tf.keras.layers.Conv2D(filters=32,        #filters for convolution    \n",
    "                                 kernel_size=3,     #size filter \n",
    "                                 padding=\"same\",    #filter complement\n",
    "                                 activation=\"relu\", #function of activation\n",
    "                                 input_shape=[32, 32, 3]))\n",
    "# add 1 layer DropOut\n",
    "model.add(tf.keras.layers.Dropout(0.2))\n",
    "\n",
    "# add 2 layer convolution\n",
    "model.add(tf.keras.layers.Conv2D(filters=32,        #filters for convolution  \n",
    "                                 kernel_size=3,     #size filter \n",
    "                                 padding=\"same\",    #filter complement\n",
    "                                 activation=\"relu\"))#function of activation\n",
    "# add 2 layer DropOut\n",
    "model.add(tf.keras.layers.Dropout(0.2))\n",
    "\n",
    "# add 1 layer maxPooling\n",
    "model.add(tf.keras.layers.MaxPool2D(pool_size=2,    #size matrix convolution\n",
    "                                    strides=2,      #jumper elements\n",
    "                                    padding='valid'))\n",
    "\n",
    "#-------------------------------------------------------------------------------------------------------------------------#\n",
    "# add 3 layer convolution\n",
    "model.add(tf.keras.layers.Conv2D(filters=64,        #filters for convolution\n",
    "                                 kernel_size=3,     #size filter \n",
    "                                 padding=\"same\",    #filter complement\n",
    "                                 activation=\"relu\"))#function of activation\n",
    "# add 3 layer DropOut\n",
    "model.add(tf.keras.layers.Dropout(0.2))\n",
    "\n",
    "# add 4 layer convolution\n",
    "model.add(tf.keras.layers.Conv2D(filters=64,        #filters for convolution\n",
    "                                 kernel_size=3,     #size filter \n",
    "                                 padding=\"same\",    #filter complement\n",
    "                                 activation=\"relu\"))#function of activation\n",
    "\n",
    "# add 4 layer DropOut\n",
    "model.add(tf.keras.layers.Dropout(0.2))\n",
    "\n",
    "# add 2 layer maxPooling\n",
    "model.add(tf.keras.layers.MaxPool2D(pool_size=2,    #size matrix convolution\n",
    "                                    strides=2,      #jumper elements\n",
    "                                    padding='valid'))\n",
    "\n",
    "#-------------------------------------------------------------------------------------------------------------------------#\n",
    "# add 5 layer convolution\n",
    "model.add(tf.keras.layers.Conv2D(filters=64,        #filters for convolution\n",
    "                                 kernel_size=3,     #size filter \n",
    "                                 padding=\"same\",    #filter complement\n",
    "                                 activation=\"relu\"))#function of activation\n",
    "# add 5 layer DropOut\n",
    "model.add(tf.keras.layers.Dropout(0.2))\n",
    "\n",
    "# add 6 layer convolution\n",
    "model.add(tf.keras.layers.Conv2D(filters=64,        #filters for convolution\n",
    "                                 kernel_size=3,     #size filter \n",
    "                                 padding=\"same\",    #filter complement\n",
    "                                 activation=\"relu\"))#function of activation\n",
    "# add 6 layer DropOut\n",
    "model.add(tf.keras.layers.Dropout(0.2))\n",
    "\n",
    "# add 3 layer maxPooling\n",
    "model.add(tf.keras.layers.MaxPool2D(pool_size=2,    #size matrix convolution\n",
    "                                    strides=2,      #jumper elements\n",
    "                                    padding='valid'))\n",
    "\n",
    "#-------------------------------------------------------------------------------------------------------------------------#\n",
    "\n",
    "# add layer flattening\n",
    "model.add(tf.keras.layers.Flatten())"
   ]
  },
  {
   "cell_type": "markdown",
   "metadata": {},
   "source": [
    "#### 03.2 - Build NN Dense"
   ]
  },
  {
   "cell_type": "code",
   "execution_count": 17,
   "metadata": {},
   "outputs": [],
   "source": [
    "# add hidden layer\n",
    "model.add(tf.keras.layers.Dense(units=128,\n",
    "                                activation='relu'))\n",
    "\n",
    "# add hidden layer\n",
    "model.add(tf.keras.layers.Dense(units=128,\n",
    "                                activation='relu'))\n",
    "\n",
    "# add 5 layer DropOut\n",
    "model.add(tf.keras.layers.Dropout(0.2))\n",
    "\n",
    "# add out layer\n",
    "model.add(tf.keras.layers.Dense(units=10,\n",
    "                                activation='softmax'))"
   ]
  },
  {
   "cell_type": "code",
   "execution_count": 18,
   "metadata": {},
   "outputs": [
    {
     "name": "stdout",
     "output_type": "stream",
     "text": [
      "Model: \"sequential_2\"\n",
      "_________________________________________________________________\n",
      "Layer (type)                 Output Shape              Param #   \n",
      "=================================================================\n",
      "conv2d_7 (Conv2D)            (None, 32, 32, 32)        896       \n",
      "_________________________________________________________________\n",
      "dropout_4 (Dropout)          (None, 32, 32, 32)        0         \n",
      "_________________________________________________________________\n",
      "conv2d_8 (Conv2D)            (None, 32, 32, 32)        9248      \n",
      "_________________________________________________________________\n",
      "dropout_5 (Dropout)          (None, 32, 32, 32)        0         \n",
      "_________________________________________________________________\n",
      "max_pooling2d_4 (MaxPooling2 (None, 16, 16, 32)        0         \n",
      "_________________________________________________________________\n",
      "conv2d_9 (Conv2D)            (None, 16, 16, 64)        18496     \n",
      "_________________________________________________________________\n",
      "dropout_6 (Dropout)          (None, 16, 16, 64)        0         \n",
      "_________________________________________________________________\n",
      "conv2d_10 (Conv2D)           (None, 16, 16, 64)        36928     \n",
      "_________________________________________________________________\n",
      "dropout_7 (Dropout)          (None, 16, 16, 64)        0         \n",
      "_________________________________________________________________\n",
      "max_pooling2d_5 (MaxPooling2 (None, 8, 8, 64)          0         \n",
      "_________________________________________________________________\n",
      "conv2d_11 (Conv2D)           (None, 8, 8, 64)          36928     \n",
      "_________________________________________________________________\n",
      "dropout_8 (Dropout)          (None, 8, 8, 64)          0         \n",
      "_________________________________________________________________\n",
      "conv2d_12 (Conv2D)           (None, 8, 8, 64)          36928     \n",
      "_________________________________________________________________\n",
      "dropout_9 (Dropout)          (None, 8, 8, 64)          0         \n",
      "_________________________________________________________________\n",
      "max_pooling2d_6 (MaxPooling2 (None, 4, 4, 64)          0         \n",
      "_________________________________________________________________\n",
      "flatten_2 (Flatten)          (None, 1024)              0         \n",
      "_________________________________________________________________\n",
      "dense_4 (Dense)              (None, 128)               131200    \n",
      "_________________________________________________________________\n",
      "dropout_10 (Dropout)         (None, 128)               0         \n",
      "_________________________________________________________________\n",
      "dense_5 (Dense)              (None, 10)                1290      \n",
      "=================================================================\n",
      "Total params: 271,914\n",
      "Trainable params: 271,914\n",
      "Non-trainable params: 0\n",
      "_________________________________________________________________\n"
     ]
    }
   ],
   "source": [
    "model.summary()"
   ]
  },
  {
   "cell_type": "markdown",
   "metadata": {},
   "source": [
    "## 04 - Treinamento"
   ]
  },
  {
   "cell_type": "code",
   "execution_count": 11,
   "metadata": {},
   "outputs": [
    {
     "name": "stdout",
     "output_type": "stream",
     "text": [
      "Epoch 1/5\n",
      "1563/1563 [==============================] - 128s 82ms/step - loss: 1.3978 - sparse_categorical_accuracy: 0.4955\n",
      "Epoch 2/5\n",
      "1563/1563 [==============================] - 117s 75ms/step - loss: 0.9164 - sparse_categorical_accuracy: 0.6788\n",
      "Epoch 3/5\n",
      "1563/1563 [==============================] - 120s 77ms/step - loss: 0.7356 - sparse_categorical_accuracy: 0.7406\n",
      "Epoch 4/5\n",
      "1563/1563 [==============================] - 136s 87ms/step - loss: 0.6138 - sparse_categorical_accuracy: 0.78371s - loss: 0.6149 - sparse_categorical_\n",
      "Epoch 5/5\n",
      "1563/1563 [==============================] - 128s 82ms/step - loss: 0.5155 - sparse_categorical_accuracy: 0.8183\n"
     ]
    },
    {
     "data": {
      "text/plain": [
       "<tensorflow.python.keras.callbacks.History at 0x1c4f4507a90>"
      ]
     },
     "execution_count": 11,
     "metadata": {},
     "output_type": "execute_result"
    }
   ],
   "source": [
    "model.compile(loss=\"sparse_categorical_crossentropy\",\n",
    "              optimizer=\"Adam\",\n",
    "              metrics=[\"sparse_categorical_accuracy\"])\n",
    "\n",
    "model.fit(X_train, y_train, epochs=10)"
   ]
  },
  {
   "cell_type": "markdown",
   "metadata": {},
   "source": [
    "## 05 - Avaliação "
   ]
  },
  {
   "cell_type": "code",
   "execution_count": 12,
   "metadata": {},
   "outputs": [
    {
     "name": "stdout",
     "output_type": "stream",
     "text": [
      "313/313 [==============================] - 5s 15ms/step - loss: 0.7734 - sparse_categorical_accuracy: 0.7454\n"
     ]
    }
   ],
   "source": [
    "test_loss, test_accuracy = model.evaluate(X_test, y_test)"
   ]
  },
  {
   "cell_type": "code",
   "execution_count": null,
   "metadata": {},
   "outputs": [],
   "source": []
  },
  {
   "cell_type": "code",
   "execution_count": null,
   "metadata": {},
   "outputs": [],
   "source": []
  },
  {
   "cell_type": "code",
   "execution_count": null,
   "metadata": {},
   "outputs": [],
   "source": []
  }
 ],
 "metadata": {
  "kernelspec": {
   "display_name": "Python 3",
   "language": "python",
   "name": "python3"
  },
  "language_info": {
   "codemirror_mode": {
    "name": "ipython",
    "version": 3
   },
   "file_extension": ".py",
   "mimetype": "text/x-python",
   "name": "python",
   "nbconvert_exporter": "python",
   "pygments_lexer": "ipython3",
   "version": "3.8.3"
  }
 },
 "nbformat": 4,
 "nbformat_minor": 4
}
