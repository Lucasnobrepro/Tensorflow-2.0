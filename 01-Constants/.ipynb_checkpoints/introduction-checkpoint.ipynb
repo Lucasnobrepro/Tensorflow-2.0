{
 "cells": [
  {
   "cell_type": "code",
   "execution_count": 2,
   "metadata": {},
   "outputs": [],
   "source": [
    "#Import library\n",
    "import tensorflow as tf\n",
    "import numpy as np"
   ]
  },
  {
   "cell_type": "code",
   "execution_count": 3,
   "metadata": {},
   "outputs": [
    {
     "data": {
      "text/plain": [
       "'2.3.1'"
      ]
     },
     "execution_count": 3,
     "metadata": {},
     "output_type": "execute_result"
    }
   ],
   "source": [
    "#Check the tensorflow version\n",
    "tf.__version__"
   ]
  },
  {
   "cell_type": "markdown",
   "metadata": {},
   "source": [
    "## 01 - Tensores\n",
    "#### Cada tensor possui uma série de propriedades, destacando-se:\n",
    "\n",
    "- **dtype**, the type of data stored internally.\n",
    "- **rank**, also known as order or degree of the tensor, tells how many dimensions the tensor has.\n",
    "- **shape**, the internal shape, that is, the dimensions of this tensor as a multidimensional arrangement.\n",
    "- **device**, the name of the device on which this tensioner will be produced.\n",
    "\n",
    "#### Há dois tipos de tensores no TensorFlow:\n",
    "\n",
    "- **constantes**. possuem dimensões fixas e os valores armazenados também são fixos desde a sua criação. Geralmente são usados para hiperparâmetros e dados estruturados que devam ser protegidos contra alteração.\n",
    "- **variáveis**. também possuem dimensões fixas, porém os valores armazenados podem ser alterados. Usados para armazenar peso e outros dados que mudam com o decorrer de um treinamento ou ativação."
   ]
  },
  {
   "cell_type": "markdown",
   "metadata": {},
   "source": [
    "## 01.1 - Constants"
   ]
  },
  {
   "cell_type": "code",
   "execution_count": 13,
   "metadata": {},
   "outputs": [
    {
     "name": "stdout",
     "output_type": "stream",
     "text": [
      "tf.Tensor(\n",
      "[[1 2]\n",
      " [3 4]], shape=(2, 2), dtype=int32)\n"
     ]
    }
   ],
   "source": [
    "# Create constant tensor with 2x2 dimension, the type int32\n",
    "tensor_01 = tf.constant([[1,2], [3,4]], shape=[2,2],dtype=tf.int32)\n",
    "print(tensor_01)"
   ]
  },
  {
   "cell_type": "code",
   "execution_count": 21,
   "metadata": {},
   "outputs": [
    {
     "name": "stdout",
     "output_type": "stream",
     "text": [
      "tensor_01.numpy(): [[1 2]\n",
      " [3 4]]\n",
      "tensor_01.device: /job:localhost/replica:0/task:0/device:CPU:0\n",
      "tensor_01.dtype: <dtype: 'int32'>\n",
      "tensor_01.shape: (2, 2)\n",
      "rank: 2\n"
     ]
    }
   ],
   "source": [
    "#show the value in tensor\n",
    "print(\"tensor_01.numpy():\",tensor_01.numpy())\n",
    "\n",
    "#show the device\n",
    "print(\"tensor_01.device:\",tensor_01.device)\n",
    "\n",
    "#show the type\n",
    "print(\"tensor_01.dtype:\",tensor_01.dtype)\n",
    "\n",
    "#show the shape\n",
    "print(\"tensor_01.shape:\",tensor_01.shape)\n",
    "\n",
    "#show the rank\n",
    "print(\"rank:\",len(tensor_01.numpy()))"
   ]
  },
  {
   "cell_type": "code",
   "execution_count": 15,
   "metadata": {},
   "outputs": [
    {
     "data": {
      "text/plain": [
       "'/job:localhost/replica:0/task:0/device:CPU:0'"
      ]
     },
     "execution_count": 15,
     "metadata": {},
     "output_type": "execute_result"
    }
   ],
   "source": [
    "tensor_01.device"
   ]
  },
  {
   "cell_type": "code",
   "execution_count": 22,
   "metadata": {},
   "outputs": [
    {
     "name": "stdout",
     "output_type": "stream",
     "text": [
      "tf.Tensor(\n",
      "[[0 0]\n",
      " [0 0]], shape=(2, 2), dtype=int32)\n",
      "tf.Tensor(\n",
      "[[1. 1. 1. 1.]\n",
      " [1. 1. 1. 1.]], shape=(2, 4), dtype=float32)\n"
     ]
    }
   ],
   "source": [
    "# cria uma matriz 2x2 preenchida com zeros\n",
    "zeros_a = tf.zeros( shape=[2,2], dtype=tf.int32, name='zeros_a' )\n",
    "print(zeros_a)\n",
    "\n",
    "# cria uma matriz 2x4 preenchida com uns\n",
    "ones_a = tf.ones( shape=[2,4], dtype=tf.float32, name='zeros_a' )\n",
    "print(ones_a)"
   ]
  },
  {
   "cell_type": "code",
   "execution_count": null,
   "metadata": {},
   "outputs": [],
   "source": []
  },
  {
   "cell_type": "code",
   "execution_count": null,
   "metadata": {},
   "outputs": [],
   "source": []
  },
  {
   "cell_type": "code",
   "execution_count": null,
   "metadata": {},
   "outputs": [],
   "source": []
  },
  {
   "cell_type": "code",
   "execution_count": null,
   "metadata": {},
   "outputs": [],
   "source": []
  },
  {
   "cell_type": "code",
   "execution_count": null,
   "metadata": {},
   "outputs": [],
   "source": []
  },
  {
   "cell_type": "code",
   "execution_count": null,
   "metadata": {},
   "outputs": [],
   "source": []
  }
 ],
 "metadata": {
  "kernelspec": {
   "display_name": "Python 3",
   "language": "python",
   "name": "python3"
  },
  "language_info": {
   "codemirror_mode": {
    "name": "ipython",
    "version": 3
   },
   "file_extension": ".py",
   "mimetype": "text/x-python",
   "name": "python",
   "nbconvert_exporter": "python",
   "pygments_lexer": "ipython3",
   "version": "3.8.3"
  }
 },
 "nbformat": 4,
 "nbformat_minor": 4
}
